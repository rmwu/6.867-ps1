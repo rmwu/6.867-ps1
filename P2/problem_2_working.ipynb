{
 "cells": [
  {
   "cell_type": "code",
   "execution_count": 19,
   "metadata": {
    "collapsed": false
   },
   "outputs": [],
   "source": [
    "%matplotlib inline\n",
    "import math\n",
    "\n",
    "import numpy as np\n",
    "import matplotlib.pyplot as plt\n",
    "\n",
    "from lbf_regression import *\n",
    "import loadFittingDataP2 as lfd"
   ]
  },
  {
   "cell_type": "code",
   "execution_count": 31,
   "metadata": {
    "collapsed": false
   },
   "outputs": [
    {
     "name": "stdout",
     "output_type": "stream",
     "text": [
      "maximum likelihood weights for basis\n",
      "[[  2.27622778e+00]\n",
      " [ -6.69845092e+01]\n",
      " [  2.11907512e+03]\n",
      " [ -2.88198948e+04]\n",
      " [  1.98071194e+05]\n",
      " [ -7.79114170e+05]\n",
      " [  1.85995920e+06]\n",
      " [ -2.74045160e+06]\n",
      " [  2.43417604e+06]\n",
      " [ -1.19458314e+06]\n",
      " [  2.48708849e+05]]\n",
      "\n"
     ]
    },
    {
     "data": {
      "image/png": "[encoded data removed]",
      "text/plain": [
       "<matplotlib.figure.Figure at 0x10a66d080>"
      ]
     },
     "metadata": {},
     "output_type": "display_data"
    }
   ],
   "source": [
    "fit_degree=10\n",
    "poly_basis = True\n",
    "\n",
    "X, Y = lfd.getData(ifPlotData=False)\n",
    "\n",
    "# plot the points\n",
    "plt.plot(X,Y,'o')\n",
    "\n",
    "x_arange = np.arange(0.0, 1.0, 0.005)\n",
    "\n",
    "# plot the actual function\n",
    "y_actual_values = np.cos(math.pi * x_arange) + np.cos(2 * math.pi * x_arange)\n",
    "line, = plt.plot(x_arange, y_actual_values, lw=2, color=\"y\")\n",
    "\n",
    "# plot the fit\n",
    "fit_kwargs = {\"color\": 'r', \"lw\": 2}\n",
    "basis_functions = power_basis(fit_degree) if poly_basis else cosine_basis(fit_degree)\n",
    "basis_fit_plot(X, Y, basis_functions, x_arange, **fit_kwargs)\n",
    "\n",
    "# nice setup\n",
    "plt.xlabel('$x$')\n",
    "plt.ylabel('$y$')\n",
    "plt.savefig(\"../paper/img/2-1_degree{}.pdf\".format(fit_degree), format=\"pdf\")\n",
    "plt.show()\n",
    "\n",
    "# savefig(fname, dpi=None, facecolor='w', edgecolor='w',\n",
    "#         orientation='portrait', papertype=None, format=None,\n",
    "#         transparent=False, bbox_inches=None, pad_inches=0.1,\n",
    "#         frameon=None)"
   ]
  },
  {
   "cell_type": "code",
   "execution_count": null,
   "metadata": {
    "collapsed": true
   },
   "outputs": [],
   "source": []
  }
 ],
 "metadata": {
  "kernelspec": {
   "display_name": "Python 3",
   "language": "python",
   "name": "python3"
  },
  "language_info": {
   "codemirror_mode": {
    "name": "ipython",
    "version": 3
   },
   "file_extension": ".py",
   "mimetype": "text/x-python",
   "name": "python",
   "nbconvert_exporter": "python",
   "pygments_lexer": "ipython3",
   "version": "3.5.1"
  }
 },
 "nbformat": 4,
 "nbformat_minor": 0
}
